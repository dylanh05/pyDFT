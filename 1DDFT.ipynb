{
  "nbformat": 4,
  "nbformat_minor": 0,
  "metadata": {
    "colab": {
      "name": "1DDFT.ipynb",
      "provenance": [],
      "authorship_tag": "ABX9TyM+xfdzxXQV02GUQ9FQXKTW",
      "include_colab_link": true
    },
    "kernelspec": {
      "name": "python3",
      "display_name": "Python 3"
    }
  },
  "cells": [
    {
      "cell_type": "markdown",
      "metadata": {
        "id": "view-in-github",
        "colab_type": "text"
      },
      "source": [
        "<a href=\"https://colab.research.google.com/github/dylanh05/pyDFT/blob/master/1DDFT.ipynb\" target=\"_parent\"><img src=\"https://colab.research.google.com/assets/colab-badge.svg\" alt=\"Open In Colab\"/></a>"
      ]
    },
    {
      "cell_type": "code",
      "metadata": {
        "id": "GuBKbpbo7yCC",
        "colab_type": "code",
        "colab": {}
      },
      "source": [
        "# Todo: implement finite differences for numerical differentiation functions, ok for now\n",
        "import numpy as np\n",
        "import matplotlib.pyplot as plt"
      ],
      "execution_count": 1,
      "outputs": []
    },
    {
      "cell_type": "code",
      "metadata": {
        "id": "Io47X7Fl8yUM",
        "colab_type": "code",
        "colab": {}
      },
      "source": [
        "class DFT:\n",
        "    # Grid must be a np.linspace with function of same shape applied to the grid\n",
        "    # v_ext is the applied potential to the grid (only supports harmonic oscillator at this point)\n",
        "    # v_ext = 'harmonic' applies harmonic oscillator to the Hamiltonian\n",
        "    def __init__(self, space, grid, v_ext):\n",
        "        self.space = space\n",
        "        self.grid = grid\n",
        "        self.v_ext = v_ext\n",
        "\n",
        "    # Assumes grid has all unique values\n",
        "    def get_index(self, value):\n",
        "        return np.where(self.grid==value)[0][0]\n",
        "\n",
        "    # Computes numerical derivatives of function on grid at given index\n",
        "    def deriv(self, function, ind):\n",
        "        return (function[ind+1]-function[ind-1])/(self.grid[ind+1]-self.grid[ind-1])\n",
        "\n",
        "    # Computes numerical second derivatives of function on grid at given index\n",
        "    def deriv2(self, function, ind):\n",
        "        return (self.deriv(function, ind+1)-self.deriv(function, ind-1))/(self.grid[ind+1]-self.grid[ind-1])\n",
        "\n",
        "    # Returns grids of first and second derivatives of function on grid\n",
        "    def compute_derivs(self, function):\n",
        "        first_derivs = np.zeros(self.grid.size)\n",
        "        second_derivs = np.zeros(self.grid.size)\n",
        "        for i in range(2, self.grid.size-2):\n",
        "            first_derivs[i] = self.deriv(function, i)\n",
        "            second_derivs[i] = self.deriv2(function, i)\n",
        "        return first_derivs, second_derivs\n",
        "\n",
        "    # Applies NxN operator to 1xN grid\n",
        "    def linear_operator(self, operator):\n",
        "        return np.dot(operator, self.function)\n",
        "\n",
        "    # Gives the matrix representation of the kinetic operator applied to function over a grid\n",
        "    # using the finite difference approximation\n",
        "    # Approximations can be modified to use numerical differentiation contained within class\n",
        "    def kinetic_operator(self):\n",
        "        operator = np.zeros((self.grid.size, self.grid.size))\n",
        "        for i in range(0, self.grid.size):\n",
        "            operator[i][i] = 2\n",
        "            if i != self.grid.size-1:\n",
        "                operator[i][i+1] = -1\n",
        "                operator[i+1][i] = -1\n",
        "        return (1/(2*((self.grid[1] - self.grid[0])**2)))*operator\n",
        "\n",
        "    # Returns the external potential chosen as a matrix to apply to the hamiltonian\n",
        "    def external_potential(self):\n",
        "        operator = np.zeros((self.grid.size, self.grid.size))\n",
        "        if self.v_ext == \"harmonic\":\n",
        "            for i in range(0, self.grid.size):\n",
        "                operator[i][i] = self.grid[i]\n",
        "            return operator\n",
        "        print(\"External potential chosen: \" + str(self.v_ext) + \" not yet supported\")\n",
        "\n",
        "    # Uses simple kinetic operator as the diagonalized Hamiltonian and computes Kohm Sham states\n",
        "    def compute_Kohm_Sham_states(self):\n",
        "        Hamiltonian = self.kinetic_operator() + self.external_potential()\n",
        "        epsilon_n, psi_gn = np.linalg.eigh(Hamiltonian)\n",
        "        return epsilon_n, psi_gn\n",
        "\n",
        "    # Integrates inputted wavefunction over the DFT grid, return area under curve\n",
        "    def integrate(self, wavefunction):\n",
        "        dh = self.space[1]-self.space[0]\n",
        "        area = 0\n",
        "        for i in range(0, self.grid.size):\n",
        "            area += wavefunction[i]*dh\n",
        "        return area\n",
        "\n",
        "    # Normalizes all states in psi_gn\n",
        "    def normalize(self, psi_gn):\n",
        "        for i in range(self.grid.size):\n",
        "            area = self.integrate(np.abs(psi_gn[i])**2)\n",
        "            psi_gn[i] = (np.abs(psi_gn[i])**2)/area\n",
        "        return psi_gn\n",
        "\n",
        "    # Plots a state at a given index and the energy associated with it\n",
        "    def plot_wavefuction(self, epsilon_n, psi_gn, ind):\n",
        "        print(\"Energy: \" + str(epsilon_n[ind]))\n",
        "        plt.plot(space, psi_gn[:, ind])\n",
        "        plt.show()"
      ],
      "execution_count": 2,
      "outputs": []
    },
    {
      "cell_type": "code",
      "metadata": {
        "id": "Ot7LQkrK92Ud",
        "colab_type": "code",
        "colab": {
          "base_uri": "https://localhost:8080/",
          "height": 329
        },
        "outputId": "e714d09a-97e1-4185-d380-fda1a0d9907d"
      },
      "source": [
        "space = np.linspace(0, 10, 100)\n",
        "print(\"1D DFT Space: \")\n",
        "print(space)"
      ],
      "execution_count": 3,
      "outputs": [
        {
          "output_type": "stream",
          "text": [
            "1D DFT Space: \n",
            "[ 0.          0.1010101   0.2020202   0.3030303   0.4040404   0.50505051\n",
            "  0.60606061  0.70707071  0.80808081  0.90909091  1.01010101  1.11111111\n",
            "  1.21212121  1.31313131  1.41414141  1.51515152  1.61616162  1.71717172\n",
            "  1.81818182  1.91919192  2.02020202  2.12121212  2.22222222  2.32323232\n",
            "  2.42424242  2.52525253  2.62626263  2.72727273  2.82828283  2.92929293\n",
            "  3.03030303  3.13131313  3.23232323  3.33333333  3.43434343  3.53535354\n",
            "  3.63636364  3.73737374  3.83838384  3.93939394  4.04040404  4.14141414\n",
            "  4.24242424  4.34343434  4.44444444  4.54545455  4.64646465  4.74747475\n",
            "  4.84848485  4.94949495  5.05050505  5.15151515  5.25252525  5.35353535\n",
            "  5.45454545  5.55555556  5.65656566  5.75757576  5.85858586  5.95959596\n",
            "  6.06060606  6.16161616  6.26262626  6.36363636  6.46464646  6.56565657\n",
            "  6.66666667  6.76767677  6.86868687  6.96969697  7.07070707  7.17171717\n",
            "  7.27272727  7.37373737  7.47474747  7.57575758  7.67676768  7.77777778\n",
            "  7.87878788  7.97979798  8.08080808  8.18181818  8.28282828  8.38383838\n",
            "  8.48484848  8.58585859  8.68686869  8.78787879  8.88888889  8.98989899\n",
            "  9.09090909  9.19191919  9.29292929  9.39393939  9.49494949  9.5959596\n",
            "  9.6969697   9.7979798   9.8989899  10.        ]\n"
          ],
          "name": "stdout"
        }
      ]
    },
    {
      "cell_type": "code",
      "metadata": {
        "id": "_EEtizrI-C6M",
        "colab_type": "code",
        "colab": {
          "base_uri": "https://localhost:8080/",
          "height": 329
        },
        "outputId": "d523e00e-90e9-42f7-dff8-1ab60dcb7dde"
      },
      "source": [
        "x = np.random.rand(100)\n",
        "print(\"DFT Grid: \")\n",
        "print(x)"
      ],
      "execution_count": 31,
      "outputs": [
        {
          "output_type": "stream",
          "text": [
            "DFT Grid: \n",
            "[0.63133419 0.09762896 0.68701944 0.78698407 0.18194149 0.52797936\n",
            " 0.86766168 0.58435514 0.5070782  0.21823973 0.56939987 0.51468586\n",
            " 0.77366495 0.08014303 0.41860879 0.44424239 0.27169704 0.31486384\n",
            " 0.14812137 0.83500106 0.32947381 0.22035168 0.61295346 0.45358268\n",
            " 0.53925485 0.84499442 0.79440865 0.80357273 0.63948626 0.60182978\n",
            " 0.37937992 0.47967857 0.12273095 0.20869276 0.46520932 0.63169051\n",
            " 0.46238097 0.27927998 0.02322217 0.71077924 0.51105007 0.60535797\n",
            " 0.45086441 0.59727798 0.66992124 0.1062867  0.17581049 0.76254276\n",
            " 0.02760007 0.7258639  0.58206257 0.12744208 0.13321226 0.88414784\n",
            " 0.45282227 0.82276427 0.5449375  0.35725072 0.61659482 0.54375367\n",
            " 0.77699953 0.94247677 0.89624899 0.51877181 0.52649463 0.9418596\n",
            " 0.58239496 0.59423548 0.86303639 0.05761061 0.79260452 0.37068525\n",
            " 0.76887216 0.95782384 0.02258668 0.56180117 0.76789273 0.20079721\n",
            " 0.89079916 0.91032913 0.73218571 0.65519256 0.58384413 0.47277442\n",
            " 0.17655769 0.55389492 0.98232886 0.06193324 0.81533351 0.08596499\n",
            " 0.54570311 0.50185977 0.91994116 0.37910489 0.50119835 0.3126724\n",
            " 0.75940508 0.57152724 0.40723818 0.55730291]\n"
          ],
          "name": "stdout"
        }
      ]
    },
    {
      "cell_type": "code",
      "metadata": {
        "id": "gY0XVVNkzgJT",
        "colab_type": "code",
        "colab": {}
      },
      "source": [
        "State = DFT(space, x, \"harmonic\")\n",
        "first_derivs, second_derivs = State.compute_derivs(x)"
      ],
      "execution_count": 32,
      "outputs": []
    },
    {
      "cell_type": "code",
      "metadata": {
        "id": "gMzX1AwAzjeP",
        "colab_type": "code",
        "colab": {}
      },
      "source": [
        "epsilon_n, psi_gn = State.compute_Kohm_Sham_states()"
      ],
      "execution_count": 33,
      "outputs": []
    },
    {
      "cell_type": "code",
      "metadata": {
        "id": "DAfBTyYt1R9j",
        "colab_type": "code",
        "colab": {
          "base_uri": "https://localhost:8080/",
          "height": 283
        },
        "outputId": "8eecac2b-101d-4b2e-f60d-70e57d0b2787"
      },
      "source": [
        "State.plot_wavefuction(epsilon_n, psi_gn, 0)"
      ],
      "execution_count": 34,
      "outputs": [
        {
          "output_type": "stream",
          "text": [
            "Energy: 0.4184957059621635\n"
          ],
          "name": "stdout"
        },
        {
          "output_type": "display_data",
          "data": {
            "image/png": "[encoded data removed]",
            "text/plain": [
              "<Figure size 432x288 with 1 Axes>"
            ]
          },
          "metadata": {
            "tags": [],
            "needs_background": "light"
          }
        }
      ]
    },
    {
      "cell_type": "code",
      "metadata": {
        "id": "TlttuB-S1jHK",
        "colab_type": "code",
        "colab": {
          "base_uri": "https://localhost:8080/",
          "height": 283
        },
        "outputId": "e03ea356-7073-4424-b70c-f91fa518d2da"
      },
      "source": [
        "psi_gn = State.normalize(psi_gn)\n",
        "State.plot_wavefuction(epsilon_n, psi_gn, 0)"
      ],
      "execution_count": 35,
      "outputs": [
        {
          "output_type": "stream",
          "text": [
            "Energy: 0.4184957059621635\n"
          ],
          "name": "stdout"
        },
        {
          "output_type": "display_data",
          "data": {
            "image/png": "[encoded data removed]",
            "text/plain": [
              "<Figure size 432x288 with 1 Axes>"
            ]
          },
          "metadata": {
            "tags": [],
            "needs_background": "light"
          }
        }
      ]
    },
    {
      "cell_type": "code",
      "metadata": {
        "id": "9Fd4o7maSK8g",
        "colab_type": "code",
        "colab": {
          "base_uri": "https://localhost:8080/",
          "height": 35
        },
        "outputId": "2ceeb82b-2e78-46c7-beeb-5039108c1976"
      },
      "source": [
        "print(State.integrate(psi_gn[0]))"
      ],
      "execution_count": 24,
      "outputs": [
        {
          "output_type": "stream",
          "text": [
            "1.0\n"
          ],
          "name": "stdout"
        }
      ]
    },
    {
      "cell_type": "code",
      "metadata": {
        "id": "3S6PYG89SwEU",
        "colab_type": "code",
        "colab": {}
      },
      "source": [
        ""
      ],
      "execution_count": 9,
      "outputs": []
    }
  ]
}