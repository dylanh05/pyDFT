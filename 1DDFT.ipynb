{
  "nbformat": 4,
  "nbformat_minor": 0,
  "metadata": {
    "colab": {
      "name": "1DDFT.ipynb",
      "provenance": []
    },
    "kernelspec": {
      "name": "python3",
      "display_name": "Python 3"
    }
  },
  "cells": [
    {
      "cell_type": "markdown",
      "metadata": {
        "id": "_gXWD4vwHZhj",
        "colab_type": "text"
      },
      "source": [
        "[![Open In Colab](https://colab.research.google.com/assets/colab-badge.svg)](https://github.com/dylanh05/pyDFT/edit/master/1DDFT.ipynb)"
      ]
    },
    {
      "cell_type": "code",
      "metadata": {
        "id": "GuBKbpbo7yCC",
        "colab_type": "code",
        "colab": {}
      },
      "source": [
        "import numpy as np\n",
        "import matplotlib.pyplot as plt"
      ],
      "execution_count": 1,
      "outputs": []
    },
    {
      "cell_type": "code",
      "metadata": {
        "id": "Io47X7Fl8yUM",
        "colab_type": "code",
        "colab": {}
      },
      "source": [
        "class DFT:\n",
        "    # Grid must be a np.linspace with function of same shape applied to the grid\n",
        "    # v_ext is the applied potential to the grid (only supports harmonic oscillator at this point)\n",
        "    # v_ext = 'harmonic' applies harmonic oscillator to the Hamiltonian\n",
        "    def __init__(self, grid, function, v_ext):\n",
        "        self.grid = grid\n",
        "        self.function = function\n",
        "        self.v_ext = v_ext\n",
        "\n",
        "    # Assumes grid has all unique values\n",
        "    def get_index(self, value):\n",
        "        return np.where(self.grid==value)[0][0]\n",
        "\n",
        "    # Computes numerical derivatives of function on grid at given index\n",
        "    def deriv(self, ind):\n",
        "        return (self.function[ind+1]-self.function[ind-1])/(self.grid[ind+1]-self.grid[ind-1])\n",
        "\n",
        "    # Computes numerical second derivatives of function on grid at given index\n",
        "    def deriv2(self, ind):\n",
        "        return (self.deriv(ind+1)-self.deriv(ind-1))/(self.grid[ind+1]-self.grid[ind-1])\n",
        "\n",
        "    # Returns grids of first and second derivatives of function on grid\n",
        "    def compute_derivs(self):\n",
        "        first_derivs = np.zeros(self.grid.size)\n",
        "        second_derivs = np.zeros(self.grid.size)\n",
        "        for i in range(2, self.grid.size-2):\n",
        "            first_derivs[i] = self.deriv(i)\n",
        "            second_derivs[i] = self.deriv2(i)\n",
        "        return first_derivs, second_derivs\n",
        "\n",
        "    # Function prototype to multiply element by zero\n",
        "    def times_zero(self, element):\n",
        "        return element*0\n",
        "\n",
        "    # Applies NxN operator to grid  \n",
        "    def linear_operator(self, operator):\n",
        "        return np.dot(operator, self.function)\n",
        "\n",
        "\n",
        "    # Gives the matrix representation of the kinetic operator applied to function over a grid\n",
        "    def kinetic_operator(self):\n",
        "        operator = np.zeros((self.grid.size, self.grid.size))          # Maybe zeros\n",
        "        #for i in range(0, self.function.size):                        # Maybe \n",
        "        #    for j in range(0, self.function.size):                    # Maybe\n",
        "        #        operator[i][j] = self.times_zero(self.function[i])    # Maybe\n",
        "        for i in range(1, self.function.size-2):\n",
        "            operator[i][i] = (-1/2)*self.deriv2(i)                     # Maybe need to change this to operator\n",
        "        return operator\n",
        "\n",
        "    # Returns the external potential chosen as a matrix to apply to the hamiltonian\n",
        "    def external_potential(self):\n",
        "        operator = np.zeros((self.grid.size, self.grid.size))         \n",
        "        if self.v_ext == \"harmonic\":\n",
        "            for i in range(0, self.grid.size):\n",
        "                operator[i][i] = self.grid[i]*self.grid[i]            # Maybe need to change this to self.grid[i]\n",
        "            return operator\n",
        "        print(\"External potential chosen: \" + str(self.v_ext) + \" not yet supported\")\n",
        "\n",
        "\n",
        "    # Uses simple kinetic operator as the diagonalized Hamiltonian and computes Kohm Sham states\n",
        "    def compute_Kohm_Sham_states(self):\n",
        "        Hamiltonian = self.kinetic_operator() + self.external_potential()\n",
        "        epsilon_n, psi_gn = np.linalg.eigh(Hamiltonian)\n",
        "        return epsilon_n, psi_gn\n",
        "\n",
        "    # Integrates inputted wavefunction over the DFT grid, return area under curve\n",
        "    def integrate(self, wavefunction):\n",
        "        dh = self.grid[1]-self.grid[0]\n",
        "        area = 0\n",
        "        for i in range(0, self.grid.size):\n",
        "            area += wavefunction[i]*dh\n",
        "        return area\n",
        "    \n",
        "    # Normalizes all states in psi_gn\n",
        "    def normalize(self, psi_gn):\n",
        "        for i in range(self.grid.size):\n",
        "          area = self.integrate((psi_gn[i])**2)\n",
        "          psi_gn[i] = np.sqrt(psi_gn[i]**2)/area\n",
        "        return psi_gn\n",
        "\n",
        "    # Plots a state at a given index and the energy associated with it\n",
        "    def plot_wavefuction(self, epsilon_n, psi_gn, ind):\n",
        "        print(\"Energy: \" + str(epsilon_n[ind]))\n",
        "        plt.plot(psi_gn[:, ind])\n",
        "        plt.show()\n"
      ],
      "execution_count": 2,
      "outputs": []
    },
    {
      "cell_type": "code",
      "metadata": {
        "id": "Ot7LQkrK92Ud",
        "colab_type": "code",
        "colab": {
          "base_uri": "https://localhost:8080/",
          "height": 69
        },
        "outputId": "3c691066-bcf9-40cc-98f4-bd6d41f8b142"
      },
      "source": [
        "x = np.linspace(-50, 50, 2000)\n",
        "print(\"1D Space:\")\n",
        "print(x)"
      ],
      "execution_count": 3,
      "outputs": [
        {
          "output_type": "stream",
          "text": [
            "1D Space:\n",
            "[-50.         -49.94997499 -49.89994997 ...  49.89994997  49.94997499\n",
            "  50.        ]\n"
          ],
          "name": "stdout"
        }
      ]
    },
    {
      "cell_type": "code",
      "metadata": {
        "id": "_EEtizrI-C6M",
        "colab_type": "code",
        "colab": {
          "base_uri": "https://localhost:8080/",
          "height": 69
        },
        "outputId": "7e9e9d61-46ff-4c3a-8988-b09176893416"
      },
      "source": [
        "y = x\n",
        "print(\"Function:\")\n",
        "print(y)"
      ],
      "execution_count": 4,
      "outputs": [
        {
          "output_type": "stream",
          "text": [
            "Function:\n",
            "[-50.         -49.94997499 -49.89994997 ...  49.89994997  49.94997499\n",
            "  50.        ]\n"
          ],
          "name": "stdout"
        }
      ]
    },
    {
      "cell_type": "code",
      "metadata": {
        "id": "gY0XVVNkzgJT",
        "colab_type": "code",
        "colab": {}
      },
      "source": [
        "State = DFT(x, y, \"harmonic\")\n",
        "first_derivs, second_derivs = State.compute_derivs()"
      ],
      "execution_count": 5,
      "outputs": []
    },
    {
      "cell_type": "code",
      "metadata": {
        "id": "gMzX1AwAzjeP",
        "colab_type": "code",
        "colab": {}
      },
      "source": [
        "epsilon_n, psi_gn = State.compute_Kohm_Sham_states()"
      ],
      "execution_count": 6,
      "outputs": []
    },
    {
      "cell_type": "code",
      "metadata": {
        "id": "DAfBTyYt1R9j",
        "colab_type": "code",
        "colab": {
          "base_uri": "https://localhost:8080/",
          "height": 283
        },
        "outputId": "b3d5fa44-c213-4898-89c3-d1ff0386fd32"
      },
      "source": [
        "State.plot_wavefuction(epsilon_n, psi_gn, 500)"
      ],
      "execution_count": 7,
      "outputs": [
        {
          "output_type": "stream",
          "text": [
            "Energy: 157.0326183602056\n"
          ],
          "name": "stdout"
        },
        {
          "output_type": "display_data",
          "data": {
            "image/png": "[encoded data removed]",
            "text/plain": [
              "<Figure size 432x288 with 1 Axes>"
            ]
          },
          "metadata": {
            "tags": [],
            "needs_background": "light"
          }
        }
      ]
    },
    {
      "cell_type": "code",
      "metadata": {
        "id": "TlttuB-S1jHK",
        "colab_type": "code",
        "colab": {
          "base_uri": "https://localhost:8080/",
          "height": 156
        },
        "outputId": "30b79187-b9f6-4e41-ec9a-616c2c690566"
      },
      "source": [
        "State.normalize(psi_gn)\n",
        "print(psi_gn)\n",
        "print(State.integrate(psi_gn[50]))"
      ],
      "execution_count": 8,
      "outputs": [
        {
          "output_type": "stream",
          "text": [
            "[[ 0.    0.    0.   ...  0.   19.99  0.  ]\n",
            " [ 0.    0.    0.   ...  0.    0.    0.  ]\n",
            " [ 0.    0.    0.   ...  0.    0.    0.  ]\n",
            " ...\n",
            " [ 0.    0.    0.   ...  0.    0.    0.  ]\n",
            " [ 0.    0.    0.   ... 19.99  0.    0.  ]\n",
            " [ 0.    0.    0.   ...  0.    0.   19.99]]\n",
            "1.0\n"
          ],
          "name": "stdout"
        }
      ]
    },
    {
      "cell_type": "code",
      "metadata": {
        "id": "JttrVOYf9boN",
        "colab_type": "code",
        "colab": {
          "base_uri": "https://localhost:8080/",
          "height": 191
        },
        "outputId": "f0eb7ba6-b8d0-4386-ca4d-8250cfde2546"
      },
      "source": [
        ""
      ],
      "execution_count": 12,
      "outputs": [
        {
          "output_type": "stream",
          "text": [
            "IOPub data rate exceeded.\n",
            "The notebook server will temporarily stop sending output\n",
            "to the client in order to avoid crashing it.\n",
            "To change this limit, set the config variable\n",
            "`--NotebookApp.iopub_data_rate_limit`.\n",
            "\n",
            "Current values:\n",
            "NotebookApp.iopub_data_rate_limit=1000000.0 (bytes/sec)\n",
            "NotebookApp.rate_limit_window=3.0 (secs)\n",
            "\n"
          ],
          "name": "stderr"
        }
      ]
    },
    {
      "cell_type": "code",
      "metadata": {
        "id": "WW4IesqSDZx4",
        "colab_type": "code",
        "colab": {}
      },
      "source": [
        ""
      ],
      "execution_count": null,
      "outputs": []
    }
  ]
}